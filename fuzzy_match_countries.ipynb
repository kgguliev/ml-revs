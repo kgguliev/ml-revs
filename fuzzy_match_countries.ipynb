{
 "cells": [
  {
   "cell_type": "markdown",
   "id": "4eb84dfa",
   "metadata": {},
   "source": [
    "**Автор скрипта**: Кирилл Гулиев\n",
    "\n",
    "**Проект**: Предсказание революций с помощью методов машинного обучения"
   ]
  },
  {
   "cell_type": "code",
   "execution_count": 1,
   "id": "ff3a4d06",
   "metadata": {},
   "outputs": [],
   "source": [
    "# pip install: fuzzywuzzy, fuzzy_pandas (requires PATH rights), Levenshtein \n",
    "\n",
    "import pandas as pd\n",
    "import os\n",
    "import fuzzywuzzy as fuzz\n",
    "import fuzzy_pandas as fpd\n",
    "\n",
    "# Set the current directory to read the data\n",
    "# NB! Specify your working directory!\n",
    "os.chdir(r'C:\\Users\\Кирилл\\Desktop\\CSR2023\\proj_ML_rev\\data')\n",
    "\n",
    "# Dictionary of countries to rename\n",
    "countries_dict = {\n",
    "    \"Литва\": \"Lithuania\",\n",
    "    \"Латвия\": \"Latvia\",\n",
    "    \"Эстония\": \"Estonia\",\n",
    "    \"Holy See\": \"Holy See (Vatican City)\",\n",
    "    \"Myanmar\": \"Myanmar (Burma)\",\n",
    "    \"Syrian Arab Republic\": \"Syria\",\n",
    "    \"German Democratic Republic\": \"German DR\",\n",
    "    \"Lao People's Democratic Republic\": \"Laos\",\n",
    "    \"Brunei Darussalam\": \"Brunei\",\n",
    "    \"Micronesia\" :\"Micronesia, Fed States\",\n",
    "    \"Viet Nam\": \"Vietnam\",\n",
    "    \"Slovakia\": \"Slovak Republic\",\n",
    "    \"Palestine\": \"Palestinian Autonomous Areas\"\n",
    "}\n",
    "\n",
    "# Read the data \n",
    "countries_data = pd.read_csv('cnts_2022_3_18.csv', sep = ';')\n",
    "\n",
    "# Unique country names\n",
    "country_names = list(set(countries_data['country']))\n",
    "\n",
    "elections_rawdata = pd.read_csv('Данные по выборам (1).csv', sep = ';')\n",
    "elections_data = elections_rawdata.rename(columns = \\\n",
    "                                          {'Исследуемая страна (использовать название строго и дословно из CNTS)' : 'country_name'})\n",
    "\n",
    "# Trim the country names and remove unnecessary string patterns \n",
    "elections_data['country_name'] = elections_data['country_name'].str.strip().replace(r'\\(.*', '', regex = True) \\\n",
    "    .replace(r'\\,.*', '', regex = True) \\\n",
    "    .replace(r'[0-9]..', '', regex = True)\n",
    "\n",
    "# Final replacement \n",
    "elections_data.replace({'country_name' : countries_dict}, inplace = True)\n",
    "\n",
    "# Match two tables into one\n",
    "merged_data = fpd.fuzzy_merge(countries_data, elections_data, \n",
    "                             left_on = 'country', right_on = 'country_name',\n",
    "                             method = 'levenshtein', threshold = 0.9)"
   ]
  },
  {
   "cell_type": "code",
   "execution_count": null,
   "id": "828219f9",
   "metadata": {},
   "outputs": [],
   "source": [
    "# Custom function to merge data by comparing the string distance\n",
    "# https://stackoverflow.com/a/56315491/12081269\n",
    "def fuzzy_merge(df_1, df_2, key1, key2, threshold = 90, limit = 2):\n",
    "    \"\"\"\n",
    "    :param df_1: the left table to join\n",
    "    :param df_2: the right table to join\n",
    "    :param key1: key column of the left table\n",
    "    :param key2: key column of the right table\n",
    "    :param threshold: how close the matches should be to return a match, based on Levenshtein distance\n",
    "    :param limit: the amount of matches that will get returned, these are sorted high to low\n",
    "    :return: dataframe with boths keys and matches\n",
    "    \"\"\"\n",
    "    s = df_2[key2].tolist()\n",
    "    \n",
    "    m = df_1[key1].apply(lambda x: process.extract(x, s, limit = limit))    \n",
    "    df_1['matches'] = m\n",
    "    \n",
    "    m2 = df_1['matches'].apply(lambda x: ', '.join([i[0] for i in x if i[1] >= threshold]))\n",
    "    df_1['matches'] = m2\n",
    "    \n",
    "    return df_1"
   ]
  }
 ],
 "metadata": {
  "kernelspec": {
   "display_name": "Python 3",
   "language": "python",
   "name": "python3"
  },
  "language_info": {
   "codemirror_mode": {
    "name": "ipython",
    "version": 3
   },
   "file_extension": ".py",
   "mimetype": "text/x-python",
   "name": "python",
   "nbconvert_exporter": "python",
   "pygments_lexer": "ipython3",
   "version": "3.8.8"
  }
 },
 "nbformat": 4,
 "nbformat_minor": 5
}
